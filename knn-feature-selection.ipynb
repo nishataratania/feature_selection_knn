{
 "cells": [
  {
   "cell_type": "code",
   "execution_count": 15,
   "id": "150e4948",
   "metadata": {},
   "outputs": [],
   "source": [
    "import random \n",
    "import numpy as np\n",
    "import pandas as pd\n",
    "import matplotlib.pyplot as plt\n",
    "import seaborn as sb\n",
    "import operator\n",
    "from tqdm import tqdm\n",
    "\n",
    "class KNN_Classifier:\n",
    "    def __init__(self, K=1):\n",
    "        self.n_neighbor = K\n",
    "    \n",
    "    def fit(self, X, Y):\n",
    "        self.train_data = X\n",
    "        self.train_labels = Y\n",
    "    \n",
    "    def get_distance(self, train_X, test_X):\n",
    "        total = 0\n",
    "        for i in range(len(train_X)):\n",
    "            total = total + np.square(test_X[i]-train_X[i])\n",
    "        return np.sqrt(total)\n",
    "    \n",
    "    def predict_labels(self, test_X):\n",
    "        test_labels=[]\n",
    "        for test_d in test_X:\n",
    "            pred_label = self.predict_label(test_d)\n",
    "            test_labels.append(pred_label)\n",
    "        return test_labels\n",
    "    \n",
    "    def predict_label(self, test_x):\n",
    "        distance_map = {}\n",
    "        for i in range(len(self.train_data)):\n",
    "            dist = self.get_distance(test_x, self.train_data[i])\n",
    "            distance_map[i]=dist\n",
    "            \n",
    "        sorted_dist = sorted(distance_map.items(), key = operator.itemgetter(1))\n",
    "\n",
    "        neighbors_list = []\n",
    "        for i in range(self.n_neighbor):\n",
    "            neighbors_list.append(sorted_dist[i][0])\n",
    "        \n",
    "\n",
    "        majority_vote = {}\n",
    "        for i in range(len(neighbors_list)):\n",
    "            label = self.train_labels[neighbors_list[i]]\n",
    "\n",
    "            if label in majority_vote:\n",
    "                majority_vote[label]+=1\n",
    "            else:\n",
    "                majority_vote[label]=1\n",
    "        \n",
    "\n",
    "        sorted_vote = sorted(majority_vote.items(), key=operator.itemgetter(1), reverse=True)\n",
    "        pred_label = sorted_vote[0][0]\n",
    "        \n",
    "        return pred_label\n",
    "    \n",
    "def accuracy_score(actual_labels, pred_labels):\n",
    "    correct = 0\n",
    "    for i in range(len(actual_labels)):\n",
    "        if actual_labels[i] == pred_labels[i]:\n",
    "            correct += 1\n",
    "    accuracy = correct/len(pred_labels)\n",
    "    return accuracy"
   ]
  },
  {
   "cell_type": "code",
   "execution_count": 16,
   "id": "e157f0c3",
   "metadata": {},
   "outputs": [],
   "source": [
    "#features = train_df.columns.to_list()[1:]\n",
    "def forward_selection(train_df, test_df, accuracy_dict):\n",
    "    features = get_features_list(train_df)\n",
    "    selected_features = []\n",
    "    K = 3\n",
    "    all_best_accuracy = 0.0\n",
    "    all_best_features = []\n",
    "    num_features = []  # list to keep track of the number of features\n",
    "    accuracies = []  # list to keep track of the accuracies\n",
    "    print(\"Starting Forward Selection Search\")\n",
    "    prev_acc = 0.0\n",
    "    for i in tqdm(range(len(features))):\n",
    "        print(\"Level \", i+1, \" using \", i+1, \" features: \")\n",
    "        best_accuracy = 0.0 \n",
    "        best_feature = None\n",
    "        for feature in features:\n",
    "            if feature not in selected_features:\n",
    "                current_features = selected_features + [feature]\n",
    "                current_features = sorted(current_features)\n",
    "                key = \"_\".join(map(str, current_features))\n",
    "                if key not in accuracy_dict:\n",
    "                    train_X, train_Y, test_X, test_Y = get_train_test_data_for_selected_features(train_df, test_df, current_features)\n",
    "\n",
    "                    model = KNN_Classifier(K=K)\n",
    "                    model.fit(train_X, train_Y)\n",
    "                    predictions = model.predict_labels(test_X)\n",
    "\n",
    "                    accuracy = accuracy_score(test_Y, predictions)\n",
    "                    accuracy_dict[key] = accuracy\n",
    "                else:\n",
    "                    accuracy = accuracy_dict[key]\n",
    "                if accuracy > best_accuracy:\n",
    "                    best_accuracy = accuracy\n",
    "                    best_feature = feature\n",
    "\n",
    "                print(\"\\tAccuracy: \", accuracy, \" after adding \", feature)\n",
    "\n",
    "        if best_feature is not None:  # Only add feature if one improved the model\n",
    "            selected_features.append(best_feature)\n",
    "            features.remove(best_feature)  # Remove the selected feature from the original list\n",
    "            num_features.append(len(selected_features))  # append the current number of features\n",
    "            accuracies.append(best_accuracy)  # append the current best accuracy\n",
    "\n",
    "        if best_accuracy > all_best_accuracy:\n",
    "            all_best_accuracy = best_accuracy\n",
    "            all_best_features = selected_features.copy()\n",
    "            print(\"Best feature: \", best_feature, \" with accuracy: \", best_accuracy)\n",
    "            print(\"Feature list: \", selected_features)\n",
    "        else:\n",
    "            print(\"Attention!! Accuracy is decreasing!\")\n",
    "            print(\"Best feature: \", best_feature, \" with accuracy: \", best_accuracy)\n",
    "            print(\"Feature list: \", selected_features)\n",
    "        print()\n",
    "\n",
    "    all_best_features = sorted(all_best_features)\n",
    "    print(f'Selected features: {all_best_features}')\n",
    "    print(\"Best accuracy: \", all_best_accuracy)\n",
    "    \n",
    "    return num_features, accuracies, all_best_features, accuracy_dict\n",
    "    \n",
    "def backward_selection(train_df, test_df, accuracy_dict):\n",
    "    features = get_features_list(train_df)\n",
    "    selected_features = features  # start with all features\n",
    "    K = 3\n",
    "    all_best_accuracy = 0.0\n",
    "    all_best_features = selected_features.copy()\n",
    "\n",
    "    # First evaluate the model with all features\n",
    "    train_X, train_Y, test_X, test_Y = get_train_test_data_for_selected_features(train_df, test_df, selected_features)\n",
    "    model = KNN_Classifier(K=K)\n",
    "    model.fit(train_X, train_Y)\n",
    "    predictions = model.predict_labels(test_X)\n",
    "    all_best_accuracy = accuracy_score(test_Y, predictions)\n",
    "    print(\"Initial accuracy with all features: \", all_best_accuracy)\n",
    "    \n",
    "    num_features = []  # list to keep track of the number of features\n",
    "    accuracies = []  # list to keep track of the accuracies\n",
    "    print(\"Starting Backward Selection Search\")\n",
    "    i = len(features)\n",
    "    while i > 0:\n",
    "        print(\"Level \", i, \" using \", i, \" features: \")\n",
    "        best_accuracy = 0.0 \n",
    "        best_feature = None\n",
    "        for feature in selected_features:\n",
    "            current_features = selected_features.copy()\n",
    "            current_features.remove(feature)\n",
    "            current_features = sorted(current_features)\n",
    "            key = \"_\".join(map(str, current_features))\n",
    "            if key not in accuracy_dict:\n",
    "                train_X, train_Y, test_X, test_Y = get_train_test_data_for_selected_features(train_df, test_df, current_features)\n",
    "\n",
    "                model = KNN_Classifier(K=K)\n",
    "                model.fit(train_X, train_Y)\n",
    "                predictions = model.predict_labels(test_X)\n",
    "\n",
    "                accuracy = accuracy_score(test_Y, predictions)\n",
    "                accuracy_dict[key] = accuracy\n",
    "            else:\n",
    "                accuracy = accuracy_dict[key]\n",
    "\n",
    "            if accuracy > best_accuracy:\n",
    "                best_accuracy = accuracy\n",
    "                best_feature = feature\n",
    "            \n",
    "            print(\"\\tAccuracy: \", accuracy, \" after removing \", feature)\n",
    "\n",
    "        if best_feature is not None:  # Only remove feature if it improved the model\n",
    "            selected_features.remove(best_feature)  # Remove the selected feature from the original list\n",
    "            num_features.append(len(selected_features))  # append the current number of features\n",
    "            accuracies.append(best_accuracy)  # append the current best accuracy\n",
    "            i -= 1\n",
    "\n",
    "        if best_accuracy >= all_best_accuracy:\n",
    "            all_best_accuracy = best_accuracy\n",
    "            all_best_features = selected_features.copy()\n",
    "            print(\"Removed feature: \", best_feature, \" with accuracy: \", best_accuracy)\n",
    "            print(\"Current feature list: \", selected_features)\n",
    "        else:\n",
    "            print(\"Attention!! Accuracy is decreasing!\")\n",
    "            print(\"Removed feature: \", best_feature, \" with accuracy: \", best_accuracy)\n",
    "            print(\"Current feature list: \", selected_features)\n",
    "        print()\n",
    "\n",
    "    all_best_features = sorted(all_best_features)\n",
    "    print(f'Selected features: {all_best_features}')\n",
    "    print(\"Best accuracy: \", all_best_accuracy)\n",
    "    \n",
    "    return num_features, accuracies, all_best_features, accuracy_dict\n",
    "\n"
   ]
  },
  {
   "cell_type": "code",
   "execution_count": 17,
   "id": "9d7483cb",
   "metadata": {},
   "outputs": [],
   "source": [
    "def load_diabetes_dataset(filename = 'diabetes.csv'):\n",
    "    data = pd.read_csv(filename)\n",
    "    \n",
    "    # Save original column names\n",
    "    original_columns = data.columns.tolist()\n",
    "\n",
    "    # Prepare new column names\n",
    "    new_cols = ['label' if col=='label' else i+1 for i, col in enumerate(data.columns)]\n",
    "\n",
    "    # Rename columns\n",
    "    data.columns = new_cols\n",
    "\n",
    "    # Create a dictionary mapping new column names to old ones\n",
    "    col_name_mapping = {new: old for new, old in zip(new_cols, original_columns)}\n",
    "\n",
    "    return data, col_name_mapping\n",
    "\n",
    "def min_max_scaler(train, test):\n",
    "    min_val = train.min()\n",
    "    max_val = train.max()\n",
    "\n",
    "    train_normalized = (train - min_val) / (max_val - min_val)\n",
    "    test_normalized = (test - min_val) / (max_val - min_val)\n",
    "\n",
    "    return train_normalized, test_normalized\n",
    "\n",
    "def train_test_split(data, test_frac=0.25):\n",
    "    test_df = data.sample(frac = test_frac, random_state=42)\n",
    "    train_df = data.drop(test_df.index)\n",
    "\n",
    "    test_df = test_df.reset_index(drop=True)\n",
    "    train_df = train_df.reset_index(drop=True)\n",
    "    \n",
    "    print(\"Data size: \", data.shape)\n",
    "    print(\"Train size: \", train_df.shape)\n",
    "    print(\"Test size: \", test_df.shape)\n",
    "\n",
    "    train_df, test_df = min_max_scaler(train_df, test_df)\n",
    "    \n",
    "    return train_df, test_df\n",
    "\n",
    "def get_train_test_data_for_selected_features(train_df, test_df, features_to_be_selected):\n",
    "    \n",
    "    train_data = train_df[features_to_be_selected].values\n",
    "    train_labels = train_df['label'].values\n",
    "\n",
    "    test_data = test_df[features_to_be_selected].values\n",
    "    test_labels = test_df['label'].values\n",
    "    \n",
    "    return train_data, train_labels, test_data, test_labels\n",
    "\n",
    "def get_features_list(data):\n",
    "    columns = list(data.columns)\n",
    "    features = []\n",
    "    for val in columns:\n",
    "        if val != 'label':\n",
    "            features.append(val)\n",
    "    return features\n",
    "\n",
    "def plot_feature_count_vs_accuracies(num_features, accuracies, title):\n",
    "    plt.plot(num_features, accuracies)\n",
    "    plt.xlabel('Number of Features')\n",
    "    plt.ylabel('Accuracy')\n",
    "    plt.title(title)\n",
    "    plt.show()"
   ]
  },
  {
   "cell_type": "code",
   "execution_count": 18,
   "id": "91370c88",
   "metadata": {},
   "outputs": [],
   "source": [
    "def load_dataset(file_name=\"CS170_small_Data__18.txt\"):\n",
    "    if file_name == \"diabetes.csv\":\n",
    "        return load_diabetes_dataset()\n",
    "    # Determine the number of columns in your data file if not known\n",
    "    with open(file_name, 'r') as f:\n",
    "        line = f.readline()\n",
    "        num_cols = len(line.split())\n",
    "\n",
    "    # Create column names\n",
    "    col_names = ['label'] + [i+1 for i in range(num_cols - 1)]\n",
    "\n",
    "    # Load the data\n",
    "    data = pd.read_csv(file_name, names=col_names, delim_whitespace=True)\n",
    "    \n",
    "    if file_name == \"CS170_XXXlarge_Data__12.txt\":\n",
    "        print(\"Sampling 50% of dataset!!\")\n",
    "        data = data.sample(frac=0.5, random_state=42).reset_index(drop=True)\n",
    "\n",
    "    return data, col_names\n"
   ]
  },
  {
   "cell_type": "code",
   "execution_count": 32,
   "id": "d499bd08",
   "metadata": {},
   "outputs": [],
   "source": [
    "# data = load_dataset()\n",
    "# data.head(3)"
   ]
  },
  {
   "cell_type": "code",
   "execution_count": null,
   "id": "b0a3769b",
   "metadata": {},
   "outputs": [],
   "source": []
  },
  {
   "cell_type": "code",
   "execution_count": null,
   "id": "aa48a7bc",
   "metadata": {},
   "outputs": [],
   "source": []
  },
  {
   "cell_type": "code",
   "execution_count": 33,
   "id": "2951e8f8",
   "metadata": {},
   "outputs": [
    {
     "name": "stdout",
     "output_type": "stream",
     "text": [
      "Data size:  (768, 9)\n",
      "Train size:  (576, 9)\n",
      "Test size:  (192, 9)\n",
      "Data size:  (768, 9)\n",
      "Train size:  (576, 9)\n",
      "Test size:  (192, 9)\n"
     ]
    }
   ],
   "source": [
    "model_accuracy_cache = {}\n",
    "\n",
    "data, col_name_mapping = load_diabetes_dataset()\n",
    "test_frac=0.25\n",
    "train_df, test_df = train_test_split(data, test_frac)\n",
    "print(\"Data size: \", data.shape)\n",
    "print(\"Train size: \", train_df.shape)\n",
    "print(\"Test size: \", test_df.shape)"
   ]
  },
  {
   "cell_type": "code",
   "execution_count": 34,
   "id": "544e6f68",
   "metadata": {},
   "outputs": [],
   "source": [
    "#data.head(3)"
   ]
  },
  {
   "cell_type": "code",
   "execution_count": 35,
   "id": "c2d32565",
   "metadata": {},
   "outputs": [
    {
     "data": {
      "text/plain": [
       "0.7083333333333334"
      ]
     },
     "execution_count": 35,
     "metadata": {},
     "output_type": "execute_result"
    }
   ],
   "source": [
    "features = get_features_list(train_df)\n",
    "train_X, train_Y, test_X, test_Y = get_train_test_data_for_selected_features(train_df, test_df,features)\n",
    "\n",
    "model = KNN_Classifier(K=3)\n",
    "model.fit(train_X, train_Y)\n",
    "predictions = model.predict_labels(test_X)\n",
    "\n",
    "accuracy = accuracy_score(test_Y, predictions)\n",
    "accuracy"
   ]
  },
  {
   "cell_type": "code",
   "execution_count": 36,
   "id": "eceb86e5",
   "metadata": {},
   "outputs": [],
   "source": [
    "# num_features1, accuracies1, all_best_features1, model_accuracy_cache = forward_selection(train_df, test_df, \n",
    "#                                                                                       model_accuracy_cache)"
   ]
  },
  {
   "cell_type": "code",
   "execution_count": 37,
   "id": "47f40bda",
   "metadata": {},
   "outputs": [],
   "source": [
    "# num_features2, accuracies2, all_best_features2, model_accuracy_cache = backward_selection(train_df, test_df, \n",
    "#                                                                                        model_accuracy_cache)"
   ]
  },
  {
   "cell_type": "code",
   "execution_count": null,
   "id": "ab00e0c3",
   "metadata": {},
   "outputs": [],
   "source": []
  },
  {
   "cell_type": "code",
   "execution_count": 38,
   "id": "54e91aa1",
   "metadata": {},
   "outputs": [],
   "source": [
    "# title = 'Forward Selection: Accuracy vs Number of Features'\n",
    "# plot_feature_count_vs_accuracies(num_features1, accuracies1, title)\n",
    "\n",
    "# title = 'Backward Selection: Accuracy vs Number of Features'\n",
    "# plot_feature_count_vs_accuracies(num_features2, accuracies2, title)"
   ]
  },
  {
   "cell_type": "code",
   "execution_count": 19,
   "id": "1f8c544c",
   "metadata": {},
   "outputs": [],
   "source": [
    "def apply_feature_selection(feature_selection, file_name, accuracy_cache):\n",
    "    data, _ = load_dataset(file_name)\n",
    "    print(data.shape)\n",
    "    \n",
    "    test_frac=0.25\n",
    "    train_df, test_df = train_test_split(data, test_frac)\n",
    "\n",
    "\n",
    "    if feature_selection == '1':\n",
    "        num_features1, accuracies1, \\\n",
    "        all_best_features1, accuracy_cache = forward_selection(train_df,test_df,accuracy_cache)\n",
    "        title = 'Forward Selection: Accuracy vs Number of Features'\n",
    "        plot_feature_count_vs_accuracies(num_features1, accuracies1, title)\n",
    "\n",
    "    elif feature_selection == '2':\n",
    "        num_features1, accuracies1, \\\n",
    "        all_best_features1, accuracy_cache = backward_selection(train_df,test_df,accuracy_cache)\n",
    "        title = 'Backward Selection: Accuracy vs Number of Features'\n",
    "        plot_feature_count_vs_accuracies(num_features1, accuracies1, title)\n",
    "    return num_features1, accuracies1, all_best_features1, accuracy_cache"
   ]
  },
  {
   "cell_type": "code",
   "execution_count": 20,
   "id": "4ba7bf66-cf56-4ee1-bc8f-c302cc55e0fe",
   "metadata": {},
   "outputs": [],
   "source": [
    "import re\n",
    "\n",
    "def get_accuracy_dict():\n",
    "    # This will store the accuracy of each feature or set of features.\n",
    "    accuracy_dict = {}\n",
    "\n",
    "    # Regular expression pattern to extract the accuracy and feature number.\n",
    "    pattern = r\"Accuracy:\\s+(\\d\\.\\d+)\\s+after adding\\s+(\\d+)\"\n",
    "\n",
    "    # Regular expression pattern to extract the current feature list.\n",
    "    feature_list_pattern = r\"Feature list:\\s+\\[([\\d,\\s]*)\\]\"\n",
    "\n",
    "    # Read the file\n",
    "    with open('output.txt', 'r') as f:\n",
    "        lines = f.readlines()\n",
    "\n",
    "    # List to store features as they're added.\n",
    "    features = []\n",
    "\n",
    "    # Parse the file\n",
    "    for line in lines:\n",
    "        # Check for a new round\n",
    "        if \"Feature list:\" in line:\n",
    "            match = re.search(feature_list_pattern, line)\n",
    "            if match:\n",
    "                # Get the feature list\n",
    "                features = match.group(1).split(', ')\n",
    "                # Strip leading/trailing white space and convert to int\n",
    "                features = [int(feature.strip()) for feature in features]\n",
    "                # Sort the features\n",
    "                features.sort()\n",
    "\n",
    "        else:\n",
    "            match = re.search(pattern, line)\n",
    "            if match:\n",
    "                # Get the accuracy and feature number\n",
    "                accuracy = float(match.group(1))\n",
    "                feature = int(match.group(2))\n",
    "\n",
    "                # Create a key by joining the current feature list with new feature\n",
    "                temp = features + [feature]\n",
    "                temp.sort()\n",
    "                key = '_'.join(map(str, temp))\n",
    "\n",
    "                # Save to dictionary\n",
    "                accuracy_dict[key] = accuracy\n",
    "\n",
    "    # Print the dictionary\n",
    "    # for k, v in accuracy_dict.items():\n",
    "    #     print(f\"{k}: {v}\")\n",
    "    \n",
    "    return accuracy_dict\n"
   ]
  },
  {
   "cell_type": "code",
   "execution_count": null,
   "id": "cf8cc8ae",
   "metadata": {
    "scrolled": true,
    "tags": []
   },
   "outputs": [
    {
     "name": "stdout",
     "output_type": "stream",
     "text": [
      "Welcome to Feature Selection Algorithm!\n"
     ]
    },
    {
     "name": "stdin",
     "output_type": "stream",
     "text": [
      "Select the dataset you want to test\n",
      "\t 1 for Small Dataset \n",
      "\t 2 for Large Dataset \n",
      "\t 3 for Large Dataset \n",
      "\t 4 for Diabetes Dataset 4\n",
      "Select feature selection option \n",
      "\t 1 for Forward Feature Selection \n",
      "\t 2 for Backward Feature Selection 1\n"
     ]
    },
    {
     "name": "stdout",
     "output_type": "stream",
     "text": [
      "(768, 9)\n",
      "Data size:  (768, 9)\n",
      "Train size:  (576, 9)\n",
      "Test size:  (192, 9)\n",
      "Starting Forward Selection Search\n"
     ]
    },
    {
     "name": "stderr",
     "output_type": "stream",
     "text": [
      "  0%|                                                     | 0/8 [00:00<?, ?it/s]"
     ]
    },
    {
     "name": "stdout",
     "output_type": "stream",
     "text": [
      "Level  1  using  1  features: \n",
      "\tAccuracy:  0.5208333333333334  after adding  1\n",
      "\tAccuracy:  0.65625  after adding  2\n",
      "\tAccuracy:  0.515625  after adding  3\n",
      "\tAccuracy:  0.5104166666666666  after adding  4\n",
      "\tAccuracy:  0.5989583333333334  after adding  5\n",
      "\tAccuracy:  0.6458333333333334  after adding  6\n",
      "\tAccuracy:  0.5729166666666666  after adding  7\n"
     ]
    },
    {
     "name": "stderr",
     "output_type": "stream",
     "text": [
      " 12%|█████▋                                       | 1/8 [00:08<01:01,  8.80s/it]"
     ]
    },
    {
     "name": "stdout",
     "output_type": "stream",
     "text": [
      "\tAccuracy:  0.6302083333333334  after adding  8\n",
      "Best feature:  2  with accuracy:  0.65625\n",
      "Feature list:  [2]\n",
      "\n",
      "Level  2  using  2  features: \n",
      "\tAccuracy:  0.6770833333333334  after adding  1\n",
      "\tAccuracy:  0.6770833333333334  after adding  3\n",
      "\tAccuracy:  0.6927083333333334  after adding  4\n",
      "\tAccuracy:  0.6145833333333334  after adding  5\n",
      "\tAccuracy:  0.6979166666666666  after adding  6\n",
      "\tAccuracy:  0.71875  after adding  7\n"
     ]
    },
    {
     "name": "stderr",
     "output_type": "stream",
     "text": [
      " 25%|███████████▎                                 | 2/8 [00:19<00:58,  9.76s/it]"
     ]
    },
    {
     "name": "stdout",
     "output_type": "stream",
     "text": [
      "\tAccuracy:  0.7135416666666666  after adding  8\n",
      "Best feature:  7  with accuracy:  0.71875\n",
      "Feature list:  [2, 7]\n",
      "\n",
      "Level  3  using  3  features: \n",
      "\tAccuracy:  0.7135416666666666  after adding  1\n",
      "\tAccuracy:  0.7291666666666666  after adding  3\n",
      "\tAccuracy:  0.6927083333333334  after adding  4\n",
      "\tAccuracy:  0.7083333333333334  after adding  5\n",
      "\tAccuracy:  0.71875  after adding  6\n"
     ]
    },
    {
     "name": "stderr",
     "output_type": "stream",
     "text": [
      " 38%|████████████████▉                            | 3/8 [00:30<00:52, 10.54s/it]"
     ]
    },
    {
     "name": "stdout",
     "output_type": "stream",
     "text": [
      "\tAccuracy:  0.71875  after adding  8\n",
      "Best feature:  3  with accuracy:  0.7291666666666666\n",
      "Feature list:  [2, 7, 3]\n",
      "\n",
      "Level  4  using  4  features: \n",
      "\tAccuracy:  0.671875  after adding  1\n",
      "\tAccuracy:  0.7083333333333334  after adding  4\n",
      "\tAccuracy:  0.671875  after adding  5\n",
      "\tAccuracy:  0.6875  after adding  6\n"
     ]
    },
    {
     "name": "stderr",
     "output_type": "stream",
     "text": [
      " 50%|██████████████████████▌                      | 4/8 [00:43<00:45, 11.39s/it]"
     ]
    },
    {
     "name": "stdout",
     "output_type": "stream",
     "text": [
      "\tAccuracy:  0.7239583333333334  after adding  8\n",
      "Attention!! Accuracy is decreasing!\n",
      "Best feature:  8  with accuracy:  0.7239583333333334\n",
      "Feature list:  [2, 7, 3, 8]\n",
      "\n",
      "Level  5  using  5  features: \n",
      "\tAccuracy:  0.7239583333333334  after adding  1\n",
      "\tAccuracy:  0.6770833333333334  after adding  4\n",
      "\tAccuracy:  0.6979166666666666  after adding  5\n"
     ]
    },
    {
     "name": "stderr",
     "output_type": "stream",
     "text": [
      " 62%|████████████████████████████▏                | 5/8 [00:54<00:34, 11.35s/it]"
     ]
    },
    {
     "name": "stdout",
     "output_type": "stream",
     "text": [
      "\tAccuracy:  0.7239583333333334  after adding  6\n",
      "Attention!! Accuracy is decreasing!\n",
      "Best feature:  1  with accuracy:  0.7239583333333334\n",
      "Feature list:  [2, 7, 3, 8, 1]\n",
      "\n",
      "Level  6  using  6  features: \n",
      "\tAccuracy:  0.625  after adding  4\n",
      "\tAccuracy:  0.6822916666666666  after adding  5\n"
     ]
    },
    {
     "name": "stderr",
     "output_type": "stream",
     "text": [
      " 75%|█████████████████████████████████▊           | 6/8 [01:04<00:21, 10.80s/it]"
     ]
    },
    {
     "name": "stdout",
     "output_type": "stream",
     "text": [
      "\tAccuracy:  0.6875  after adding  6\n",
      "Attention!! Accuracy is decreasing!\n",
      "Best feature:  6  with accuracy:  0.6875\n",
      "Feature list:  [2, 7, 3, 8, 1, 6]\n",
      "\n",
      "Level  7  using  7  features: \n",
      "\tAccuracy:  0.6822916666666666  after adding  4\n"
     ]
    },
    {
     "name": "stderr",
     "output_type": "stream",
     "text": [
      " 88%|███████████████████████████████████████▍     | 7/8 [01:12<00:09,  9.82s/it]"
     ]
    },
    {
     "name": "stdout",
     "output_type": "stream",
     "text": [
      "\tAccuracy:  0.75  after adding  5\n",
      "Best feature:  5  with accuracy:  0.75\n",
      "Feature list:  [2, 7, 3, 8, 1, 6, 5]\n",
      "\n",
      "Level  8  using  8  features: \n"
     ]
    },
    {
     "name": "stderr",
     "output_type": "stream",
     "text": [
      "100%|█████████████████████████████████████████████| 8/8 [01:16<00:00,  9.58s/it]"
     ]
    },
    {
     "name": "stdout",
     "output_type": "stream",
     "text": [
      "\tAccuracy:  0.7083333333333334  after adding  4\n",
      "Attention!! Accuracy is decreasing!\n",
      "Best feature:  4  with accuracy:  0.7083333333333334\n",
      "Feature list:  [2, 7, 3, 8, 1, 6, 5, 4]\n",
      "\n",
      "Selected features: [1, 2, 3, 5, 6, 7, 8]\n",
      "Best accuracy:  0.75\n"
     ]
    },
    {
     "name": "stderr",
     "output_type": "stream",
     "text": [
      "\n"
     ]
    },
    {
     "data": {
      "image/png": "[encoded data removed]",
      "text/plain": [
       "<Figure size 432x288 with 1 Axes>"
      ]
     },
     "metadata": {
      "needs_background": "light"
     },
     "output_type": "display_data"
    },
    {
     "name": "stdout",
     "output_type": "stream",
     "text": [
      "Welcome to Feature Selection Algorithm!\n"
     ]
    }
   ],
   "source": [
    "if __name__ == \"__main__\":\n",
    "    small_data_accuracy_cache = {}\n",
    "    large_data_accuracy_cache = {}\n",
    "    xlarge_data_accuracy_cache = {} #get_accuracy_dict()\n",
    "    diabetes_data_accuracy_cache = {}\n",
    "    while(True):\n",
    "        print(\"Welcome to Feature Selection Algorithm!\")\n",
    "        data_selection = input(\"Select the dataset you want to test\\n\" + \\\n",
    "                                \"\\t 1 for Small Dataset \\n\" + \\\n",
    "                                \"\\t 2 for Large Dataset \\n\" + \\\n",
    "                                \"\\t 3 for Large Dataset \\n\" + \\\n",
    "                                \"\\t 4 for Diabetes Dataset\")\n",
    "        \n",
    "        feature_selection = input(\"Select feature selection option \\n\" + \\\n",
    "                                 \"\\t 1 for Forward Feature Selection \\n\" + \\\n",
    "                                 \"\\t 2 for Backward Feature Selection\")\n",
    "        \n",
    "        if data_selection == '1':\n",
    "            file_name=\"CS170_small_Data__18.txt\"\n",
    "            #data = load_dataset(file_name)\n",
    "            num_features1, accuracies1, all_best_features1, large_data_accuracy_cache = apply_feature_selection(\n",
    "                feature_selection, file_name, large_data_accuracy_cache)\n",
    "        \n",
    "        elif data_selection == '2':\n",
    "            file_name=\"CS170_large_Data__31.txt\"\n",
    "            num_features1, accuracies1, all_best_features1, large_data_accuracy_cache = apply_feature_selection(\n",
    "                feature_selection, file_name, large_data_accuracy_cache)\n",
    "        \n",
    "        elif data_selection == '3':\n",
    "            print(len(xlarge_data_accuracy_cache))\n",
    "            file_name=\"CS170_XXXlarge_Data__12.txt\"\n",
    "            num_features1, accuracies1, all_best_features1, xlarge_data_accuracy_cache = apply_feature_selection(\n",
    "                feature_selection, file_name, xlarge_data_accuracy_cache)\n",
    "        \n",
    "        elif data_selection == '4':\n",
    "            file_name = 'diabetes.csv'\n",
    "            num_features1, accuracies1, all_best_features1, diabetes_data_accuracy_cache = apply_feature_selection(\n",
    "                feature_selection, file_name, diabetes_data_accuracy_cache)"
   ]
  },
  {
   "cell_type": "code",
   "execution_count": null,
   "id": "7fb22967",
   "metadata": {},
   "outputs": [],
   "source": []
  },
  {
   "cell_type": "code",
   "execution_count": null,
   "id": "7db6defe",
   "metadata": {},
   "outputs": [],
   "source": []
  }
 ],
 "metadata": {
  "kernelspec": {
   "display_name": "Python 3 (ipykernel)",
   "language": "python",
   "name": "python3"
  },
  "language_info": {
   "codemirror_mode": {
    "name": "ipython",
    "version": 3
   },
   "file_extension": ".py",
   "mimetype": "text/x-python",
   "name": "python",
   "nbconvert_exporter": "python",
   "pygments_lexer": "ipython3",
   "version": "3.9.7"
  }
 },
 "nbformat": 4,
 "nbformat_minor": 5
}
