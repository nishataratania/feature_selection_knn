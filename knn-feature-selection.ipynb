{
 "cells": [
  {
   "cell_type": "code",
   "execution_count": 1,
   "id": "150e4948",
   "metadata": {},
   "outputs": [],
   "source": [
    "import random \n",
    "import numpy as np\n",
    "import pandas as pd\n",
    "import matplotlib.pyplot as plt\n",
    "import seaborn as sb\n",
    "import operator\n",
    "from tqdm import tqdm\n",
    "\n",
    "class KNN_Classifier:\n",
    "    def __init__(self, K=1):\n",
    "        self.n_neighbor = K\n",
    "    \n",
    "    def fit(self, X, Y):\n",
    "        self.train_data = X\n",
    "        self.train_labels = Y\n",
    "    \n",
    "    def get_distance(self, train_X, test_X):\n",
    "        total = 0\n",
    "        for i in range(len(train_X)):\n",
    "            total = total + np.square(test_X[i]-train_X[i])\n",
    "        return np.sqrt(total)\n",
    "    \n",
    "    def predict_labels(self, test_X):\n",
    "        test_labels=[]\n",
    "        for test_d in test_X:\n",
    "            pred_label = self.predict_label(test_d)\n",
    "            test_labels.append(pred_label)\n",
    "        return test_labels\n",
    "    \n",
    "    def predict_label(self, test_x):\n",
    "        distance_map = {}\n",
    "        for i in range(len(self.train_data)):\n",
    "            dist = self.get_distance(test_x, self.train_data[i])\n",
    "            distance_map[i]=dist\n",
    "            \n",
    "        sorted_dist = sorted(distance_map.items(), key = operator.itemgetter(1))\n",
    "\n",
    "        neighbors_list = []\n",
    "        for i in range(self.n_neighbor):\n",
    "            neighbors_list.append(sorted_dist[i][0])\n",
    "        \n",
    "\n",
    "        majority_vote = {}\n",
    "        for i in range(len(neighbors_list)):\n",
    "            label = self.train_labels[neighbors_list[i]]\n",
    "\n",
    "            if label in majority_vote:\n",
    "                majority_vote[label]+=1\n",
    "            else:\n",
    "                majority_vote[label]=1\n",
    "        \n",
    "\n",
    "        sorted_vote = sorted(majority_vote.items(), key=operator.itemgetter(1), reverse=True)\n",
    "        pred_label = sorted_vote[0][0]\n",
    "        \n",
    "        return pred_label\n",
    "    \n",
    "def accuracy_score(actual_labels, pred_labels):\n",
    "    correct = 0\n",
    "    for i in range(len(actual_labels)):\n",
    "        if actual_labels[i] == pred_labels[i]:\n",
    "            correct += 1\n",
    "    accuracy = correct/len(pred_labels)\n",
    "    return accuracy"
   ]
  },
  {
   "cell_type": "code",
   "execution_count": 2,
   "id": "e157f0c3",
   "metadata": {},
   "outputs": [],
   "source": [
    "def cross_validation(model, data, target, k=10):\n",
    "    data_size = data.shape[0]\n",
    "    fold_size = data_size // k\n",
    "    accuracies = []\n",
    "\n",
    "    for i in range(k):\n",
    "        start = i * fold_size\n",
    "        end = (i + 1) * fold_size if i < k - 1 else data_size\n",
    "\n",
    "        train_data = np.concatenate([data[:start], data[end:]], axis=0)\n",
    "        train_target = np.concatenate([target[:start], target[end:]], axis=0)\n",
    "        test_data = data[start:end]\n",
    "        test_target = target[start:end]\n",
    "\n",
    "        model.fit(train_data, train_target)\n",
    "        predictions = model.predict_labels(test_data)\n",
    "        \n",
    "        accuracy = accuracy_score(test_target, predictions)\n",
    "\n",
    "        accuracies.append(accuracy)\n",
    "\n",
    "    return np.mean(accuracies)\n",
    "\n",
    "\n",
    "def get_data_for_selected_features(df, selected_features):\n",
    "    X = df[selected_features].to_numpy()\n",
    "    Y = df['label'].to_numpy()\n",
    "    return X, Y\n",
    "\n",
    "def forward_selection(df, accuracy_dict):\n",
    "    features = get_features_list(df)\n",
    "    selected_features = []\n",
    "    K = 3\n",
    "    all_best_accuracy = 0.0\n",
    "    all_best_features = []\n",
    "    num_features = []  # list to keep track of the number of features\n",
    "    accuracies = []  # list to keep track of the accuracies\n",
    "    print(\"Starting Forward Selection Search\")\n",
    "    prev_acc = 0.0\n",
    "    for i in tqdm(range(len(features))):\n",
    "        print(\"Level \", i+1, \" using \", i+1, \" features: \")\n",
    "        best_accuracy = 0.0 \n",
    "        best_feature = None\n",
    "        for feature in features:\n",
    "            if feature not in selected_features:\n",
    "                current_features = selected_features + [feature]\n",
    "                current_features = sorted(current_features)\n",
    "                key = \"_\".join(map(str, current_features))\n",
    "                if key not in accuracy_dict:\n",
    "                    X, Y = get_data_for_selected_features(df, current_features)\n",
    "\n",
    "                    model = KNN_Classifier(K=K)\n",
    "                    accuracy = cross_validation(model, X, Y)\n",
    "                    accuracy_dict[key] = accuracy\n",
    "                else:\n",
    "                    accuracy = accuracy_dict[key]\n",
    "                if accuracy > best_accuracy:\n",
    "                    best_accuracy = accuracy\n",
    "                    best_feature = feature\n",
    "\n",
    "                print(\"\\tAccuracy: \", accuracy, \" after adding \", feature)\n",
    "\n",
    "        if best_feature is not None:  # Only add feature if one improved the model\n",
    "            selected_features.append(best_feature)\n",
    "            features.remove(best_feature)  # Remove the selected feature from the original list\n",
    "            num_features.append(len(selected_features))  # append the current number of features\n",
    "            accuracies.append(best_accuracy)  # append the current best accuracy\n",
    "\n",
    "        if best_accuracy > all_best_accuracy:\n",
    "            all_best_accuracy = best_accuracy\n",
    "            all_best_features = selected_features.copy()\n",
    "            print(\"Best feature: \", best_feature, \" with accuracy: \", best_accuracy)\n",
    "            print(\"Feature list: \", selected_features)\n",
    "        else:\n",
    "            print(\"Attention!! Accuracy has not improved by adding this feature!\")\n",
    "            print(\"Best feature: \", best_feature, \" with accuracy: \", best_accuracy)\n",
    "            print(\"Feature list: \", selected_features)\n",
    "        print()\n",
    "\n",
    "    all_best_features = sorted(all_best_features)\n",
    "    print(f'Selected features: {all_best_features}')\n",
    "    print(\"Best accuracy: \", all_best_accuracy)\n",
    "    \n",
    "    return num_features, accuracies, all_best_features, accuracy_dict\n",
    "    \n",
    "def backward_selection(df, accuracy_dict):\n",
    "    features = get_features_list(df)\n",
    "    selected_features = features  # start with all features\n",
    "    K = 3\n",
    "    all_best_accuracy = 0.0\n",
    "    all_best_features = selected_features.copy()\n",
    "\n",
    "    # First evaluate the model with all features\n",
    "    X, Y = get_data_for_selected_features(df, selected_features)\n",
    "\n",
    "    model = KNN_Classifier(K=K)\n",
    "    accuracy = cross_validation(model, X, Y)\n",
    "    key = \"_\".join(map(str, selected_features))\n",
    "    accuracy_dict[key] = accuracy\n",
    "    all_best_accuracy = accuracy\n",
    "    print(\"Initial accuracy with all features: \", all_best_accuracy)\n",
    "    \n",
    "    num_features = []  # list to keep track of the number of features\n",
    "    accuracies = []  # list to keep track of the accuracies\n",
    "    print(\"Starting Backward Selection Search\")\n",
    "    i = len(features)\n",
    "    while i > 0:\n",
    "        print(\"Level \", i, \" using \", i, \" features: \")\n",
    "        best_accuracy = 0.0 \n",
    "        best_feature = None\n",
    "        for feature in selected_features:\n",
    "            current_features = selected_features.copy()\n",
    "            current_features.remove(feature)\n",
    "            current_features = sorted(current_features)\n",
    "            key = \"_\".join(map(str, current_features))\n",
    "            if key not in accuracy_dict:\n",
    "                X, Y = get_data_for_selected_features(df, current_features)\n",
    "\n",
    "                model = KNN_Classifier(K=K)\n",
    "                accuracy = cross_validation(model, X, Y)\n",
    "                accuracy_dict[key] = accuracy\n",
    "            else:\n",
    "                accuracy = accuracy_dict[key]\n",
    "\n",
    "            if accuracy > best_accuracy:\n",
    "                best_accuracy = accuracy\n",
    "                best_feature = feature\n",
    "            \n",
    "            print(\"\\tAccuracy: \", accuracy, \" after removing \", feature)\n",
    "\n",
    "        if best_feature is not None:  # Only remove feature if it improved the model\n",
    "            selected_features.remove(best_feature)  # Remove the selected feature from the original list\n",
    "            num_features.append(len(selected_features))  # append the current number of features\n",
    "            accuracies.append(best_accuracy)  # append the current best accuracy\n",
    "            i -= 1\n",
    "\n",
    "        if best_accuracy >= all_best_accuracy:\n",
    "            all_best_accuracy = best_accuracy\n",
    "            all_best_features = selected_features.copy()\n",
    "            print(\"Removed feature: \", best_feature, \" with accuracy: \", best_accuracy)\n",
    "            print(\"Current feature list: \", selected_features)\n",
    "        else:\n",
    "            print(\"Attention!! Accuracy has not improved by removing this feature!\")\n",
    "            print(\"Removed feature: \", best_feature, \" with accuracy: \", best_accuracy)\n",
    "            print(\"Current feature list: \", selected_features)\n",
    "        print()\n",
    "\n",
    "    all_best_features = sorted(all_best_features)\n",
    "    print(f'Selected features: {all_best_features}')\n",
    "    print(\"Best accuracy: \", all_best_accuracy)\n",
    "    \n",
    "    return num_features, accuracies, all_best_features, accuracy_dict\n",
    "\n"
   ]
  },
  {
   "cell_type": "code",
   "execution_count": 3,
   "id": "9d7483cb",
   "metadata": {},
   "outputs": [],
   "source": [
    "def load_diabetes_dataset(filename = 'diabetes.csv'):\n",
    "    data = pd.read_csv(filename)\n",
    "    \n",
    "    # Save original column names\n",
    "    original_columns = data.columns.tolist()\n",
    "\n",
    "    # Prepare new column names\n",
    "    new_cols = ['label' if col=='label' else i+1 for i, col in enumerate(data.columns)]\n",
    "\n",
    "    # Rename columns\n",
    "    data.columns = new_cols\n",
    "\n",
    "    # Create a dictionary mapping new column names to old ones\n",
    "    col_name_mapping = {new: old for new, old in zip(new_cols, original_columns)}\n",
    "\n",
    "    return data, col_name_mapping\n",
    "\n",
    "def min_max_scaler(data):\n",
    "    min_val = data.min()\n",
    "    max_val = data.max()\n",
    "\n",
    "    data_normalized = (data - min_val) / (max_val - min_val)\n",
    "\n",
    "    return data_normalized\n",
    "\n",
    "def shuffle_normalize(df):\n",
    "    df = df.sample(frac=1.0, random_state=42)\n",
    "    \n",
    "    normalized_df = df.copy()\n",
    "    features = df.columns.drop('label')\n",
    "    normalized_df[features] = min_max_scaler(df[features])\n",
    "\n",
    "    return normalized_df\n",
    "\n",
    "def get_features_list(data):\n",
    "    columns = list(data.columns)\n",
    "    features = []\n",
    "    for val in columns:\n",
    "        if val != 'label':\n",
    "            features.append(val)\n",
    "    return features\n",
    "\n",
    "def plot_feature_count_vs_accuracies(num_features, accuracies, title):\n",
    "    plt.plot(num_features, accuracies)\n",
    "    plt.xlabel('Number of Features')\n",
    "    plt.ylabel('Accuracy')\n",
    "    plt.title(title)\n",
    "    plt.show()"
   ]
  },
  {
   "cell_type": "code",
   "execution_count": 4,
   "id": "91370c88",
   "metadata": {},
   "outputs": [],
   "source": [
    "def load_dataset(file_name=\"CS170_small_Data__18.txt\"):\n",
    "    if file_name == \"diabetes.csv\":\n",
    "        return load_diabetes_dataset()\n",
    "    # Determine the number of columns in your data file if not known\n",
    "    with open(file_name, 'r') as f:\n",
    "        line = f.readline()\n",
    "        num_cols = len(line.split())\n",
    "\n",
    "    # Create column names\n",
    "    col_names = ['label'] + [i+1 for i in range(num_cols - 1)]\n",
    "\n",
    "    # Load the data\n",
    "    data = pd.read_csv(file_name, names=col_names, delim_whitespace=True)\n",
    "    \n",
    "    if file_name == \"CS170_XXXlarge_Data__12.txt\":\n",
    "        print(\"Sampling 50% of dataset!!\")\n",
    "        data = data.sample(frac=0.5, random_state=42).reset_index(drop=True)\n",
    "\n",
    "    return data, col_names\n"
   ]
  },
  {
   "cell_type": "code",
   "execution_count": 5,
   "id": "1f8c544c",
   "metadata": {},
   "outputs": [],
   "source": [
    "def apply_feature_selection(feature_selection, file_name, accuracy_cache):\n",
    "    data, _ = load_dataset(file_name)\n",
    "    data = shuffle_normalize(data)\n",
    "    print(data.shape)\n",
    "    \n",
    "    # test_frac=0.25\n",
    "    # train_df, test_df = train_test_split(data, test_frac)\n",
    "\n",
    "\n",
    "    if feature_selection == '1':\n",
    "        num_features1, accuracies1, \\\n",
    "        all_best_features1, accuracy_cache = forward_selection(data,accuracy_cache)\n",
    "        title = 'Forward Selection: Accuracy vs Number of Features'\n",
    "        plot_feature_count_vs_accuracies(num_features1, accuracies1, title)\n",
    "\n",
    "    elif feature_selection == '2':\n",
    "        num_features1, accuracies1, \\\n",
    "        all_best_features1, accuracy_cache = backward_selection(data,accuracy_cache)\n",
    "        title = 'Backward Selection: Accuracy vs Number of Features'\n",
    "        plot_feature_count_vs_accuracies(num_features1, accuracies1, title)\n",
    "    return num_features1, accuracies1, all_best_features1, accuracy_cache"
   ]
  },
  {
   "cell_type": "code",
   "execution_count": null,
   "id": "6af01714-6a34-43ee-b090-03c448a13143",
   "metadata": {
    "tags": []
   },
   "outputs": [
    {
     "name": "stdout",
     "output_type": "stream",
     "text": [
      "Welcome to Feature Selection Algorithm!\n"
     ]
    },
    {
     "name": "stdin",
     "output_type": "stream",
     "text": [
      "Select the dataset you want to test\n",
      "\t 1 for Small Dataset \n",
      "\t 2 for Large Dataset \n",
      "\t 3 for XXX_Large Dataset \n",
      "\t 4 for Diabetes Dataset 4\n",
      "Select feature selection option \n",
      "\t 1 for Forward Feature Selection \n",
      "\t 2 for Backward Feature Selection 1\n"
     ]
    },
    {
     "name": "stdout",
     "output_type": "stream",
     "text": [
      "(768, 9)\n",
      "Starting Forward Selection Search\n"
     ]
    },
    {
     "name": "stderr",
     "output_type": "stream",
     "text": [
      "  0%|                                                     | 0/8 [00:00<?, ?it/s]"
     ]
    },
    {
     "name": "stdout",
     "output_type": "stream",
     "text": [
      "Level  1  using  1  features: \n",
      "\tAccuracy:  0.5721804511278197  after adding  1\n",
      "\tAccuracy:  0.6748120300751881  after adding  2\n",
      "\tAccuracy:  0.5973057644110276  after adding  3\n",
      "\tAccuracy:  0.581077694235589  after adding  4\n",
      "\tAccuracy:  0.6216791979949876  after adding  5\n",
      "\tAccuracy:  0.6379699248120301  after adding  6\n",
      "\tAccuracy:  0.5650375939849624  after adding  7\n"
     ]
    },
    {
     "name": "stderr",
     "output_type": "stream",
     "text": [
      " 12%|█████▋                                       | 1/8 [00:43<05:05, 43.64s/it]"
     ]
    },
    {
     "name": "stdout",
     "output_type": "stream",
     "text": [
      "\tAccuracy:  0.6216791979949875  after adding  8\n",
      "Best feature:  2  with accuracy:  0.6748120300751881\n",
      "Feature list:  [2]\n",
      "\n",
      "Level  2  using  2  features: \n",
      "\tAccuracy:  0.7027568922305764  after adding  1\n",
      "\tAccuracy:  0.693922305764411  after adding  3\n",
      "\tAccuracy:  0.6739348370927318  after adding  4\n",
      "\tAccuracy:  0.6760025062656643  after adding  5\n",
      "\tAccuracy:  0.699436090225564  after adding  6\n",
      "\tAccuracy:  0.731328320802005  after adding  7\n"
     ]
    },
    {
     "name": "stderr",
     "output_type": "stream",
     "text": [
      " 25%|███████████▎                                 | 2/8 [01:38<05:03, 50.52s/it]"
     ]
    },
    {
     "name": "stdout",
     "output_type": "stream",
     "text": [
      "\tAccuracy:  0.7102130325814537  after adding  8\n",
      "Best feature:  7  with accuracy:  0.731328320802005\n",
      "Feature list:  [2, 7]\n",
      "\n",
      "Level  3  using  3  features: \n",
      "\tAccuracy:  0.7109022556390978  after adding  1\n",
      "\tAccuracy:  0.7015664160401003  after adding  3\n",
      "\tAccuracy:  0.7102756892230577  after adding  4\n",
      "\tAccuracy:  0.7114661654135339  after adding  5\n",
      "\tAccuracy:  0.7211779448621554  after adding  6\n"
     ]
    },
    {
     "name": "stderr",
     "output_type": "stream",
     "text": [
      " 38%|████████████████▉                            | 3/8 [02:36<04:28, 53.70s/it]"
     ]
    },
    {
     "name": "stdout",
     "output_type": "stream",
     "text": [
      "\tAccuracy:  0.718671679197995  after adding  8\n",
      "Attention!! Accuracy has not improved by adding this feature!\n",
      "Best feature:  6  with accuracy:  0.7211779448621554\n",
      "Feature list:  [2, 7, 6]\n",
      "\n",
      "Level  4  using  4  features: \n",
      "\tAccuracy:  0.7223684210526315  after adding  1\n",
      "\tAccuracy:  0.7025062656641603  after adding  3\n",
      "\tAccuracy:  0.7117167919799499  after adding  4\n",
      "\tAccuracy:  0.7273809523809524  after adding  5\n"
     ]
    },
    {
     "name": "stderr",
     "output_type": "stream",
     "text": [
      " 50%|██████████████████████▌                      | 4/8 [03:35<03:44, 56.01s/it]"
     ]
    },
    {
     "name": "stdout",
     "output_type": "stream",
     "text": [
      "\tAccuracy:  0.7357769423558898  after adding  8\n",
      "Best feature:  8  with accuracy:  0.7357769423558898\n",
      "Feature list:  [2, 7, 6, 8]\n",
      "\n",
      "Level  5  using  5  features: \n",
      "\tAccuracy:  0.7363408521303259  after adding  1\n",
      "\tAccuracy:  0.7347117794486216  after adding  3\n",
      "\tAccuracy:  0.731829573934837  after adding  4\n"
     ]
    },
    {
     "name": "stderr",
     "output_type": "stream",
     "text": [
      " 62%|████████████████████████████▏                | 5/8 [04:31<02:47, 55.87s/it]"
     ]
    },
    {
     "name": "stdout",
     "output_type": "stream",
     "text": [
      "\tAccuracy:  0.7451127819548873  after adding  5\n",
      "Best feature:  5  with accuracy:  0.7451127819548873\n",
      "Feature list:  [2, 7, 6, 8, 5]\n",
      "\n",
      "Level  6  using  6  features: \n",
      "\tAccuracy:  0.7342105263157894  after adding  1\n",
      "\tAccuracy:  0.7238095238095238  after adding  3\n"
     ]
    },
    {
     "name": "stderr",
     "output_type": "stream",
     "text": [
      " 75%|█████████████████████████████████▊           | 6/8 [05:20<01:46, 53.42s/it]"
     ]
    },
    {
     "name": "stdout",
     "output_type": "stream",
     "text": [
      "\tAccuracy:  0.750125313283208  after adding  4\n",
      "Best feature:  4  with accuracy:  0.750125313283208\n",
      "Feature list:  [2, 7, 6, 8, 5, 4]\n",
      "\n",
      "Level  7  using  7  features: \n",
      "\tAccuracy:  0.7326441102756893  after adding  1\n"
     ]
    },
    {
     "name": "stderr",
     "output_type": "stream",
     "text": [
      " 88%|███████████████████████████████████████▍     | 7/8 [05:55<00:47, 47.39s/it]"
     ]
    },
    {
     "name": "stdout",
     "output_type": "stream",
     "text": [
      "\tAccuracy:  0.7288220551378447  after adding  3\n",
      "Attention!! Accuracy has not improved by adding this feature!\n",
      "Best feature:  1  with accuracy:  0.7326441102756893\n",
      "Feature list:  [2, 7, 6, 8, 5, 4, 1]\n",
      "\n",
      "Level  8  using  8  features: \n"
     ]
    },
    {
     "name": "stderr",
     "output_type": "stream",
     "text": [
      "100%|█████████████████████████████████████████████| 8/8 [06:15<00:00, 46.92s/it]"
     ]
    },
    {
     "name": "stdout",
     "output_type": "stream",
     "text": [
      "\tAccuracy:  0.7315789473684211  after adding  3\n",
      "Attention!! Accuracy has not improved by adding this feature!\n",
      "Best feature:  3  with accuracy:  0.7315789473684211\n",
      "Feature list:  [2, 7, 6, 8, 5, 4, 1, 3]\n",
      "\n",
      "Selected features: [2, 4, 5, 6, 7, 8]\n",
      "Best accuracy:  0.750125313283208\n"
     ]
    },
    {
     "name": "stderr",
     "output_type": "stream",
     "text": [
      "\n"
     ]
    },
    {
     "data": {
      "image/png": "[encoded data removed]",
      "text/plain": [
       "<Figure size 432x288 with 1 Axes>"
      ]
     },
     "metadata": {
      "needs_background": "light"
     },
     "output_type": "display_data"
    },
    {
     "name": "stdout",
     "output_type": "stream",
     "text": [
      "Welcome to Feature Selection Algorithm!\n"
     ]
    },
    {
     "name": "stdin",
     "output_type": "stream",
     "text": [
      "Select the dataset you want to test\n",
      "\t 1 for Small Dataset \n",
      "\t 2 for Large Dataset \n",
      "\t 3 for XXX_Large Dataset \n",
      "\t 4 for Diabetes Dataset 4\n",
      "Select feature selection option \n",
      "\t 1 for Forward Feature Selection \n",
      "\t 2 for Backward Feature Selection 2\n"
     ]
    },
    {
     "name": "stdout",
     "output_type": "stream",
     "text": [
      "(768, 9)\n",
      "Initial accuracy with all features:  0.7315789473684211\n",
      "Starting Backward Selection Search\n",
      "Level  8  using  8  features: \n",
      "\tAccuracy:  0.7288220551378447  after removing  1\n",
      "\tAccuracy:  0.6862781954887219  after removing  2\n",
      "\tAccuracy:  0.7326441102756893  after removing  3\n",
      "\tAccuracy:  0.7486842105263158  after removing  4\n",
      "\tAccuracy:  0.7239348370927319  after removing  5\n",
      "\tAccuracy:  0.7152882205513784  after removing  6\n",
      "\tAccuracy:  0.7115914786967419  after removing  7\n",
      "\tAccuracy:  0.71234335839599  after removing  8\n",
      "Removed feature:  4  with accuracy:  0.7486842105263158\n",
      "Current feature list:  [1, 2, 3, 5, 6, 7, 8]\n",
      "\n",
      "Level  7  using  7  features: \n",
      "\tAccuracy:  0.7238095238095238  after removing  1\n",
      "\tAccuracy:  0.6617794486215539  after removing  2\n",
      "\tAccuracy:  0.7342105263157894  after removing  3\n",
      "\tAccuracy:  0.7199874686716793  after removing  5\n",
      "\tAccuracy:  0.7236842105263157  after removing  6\n",
      "\tAccuracy:  0.7448621553884712  after removing  7\n",
      "\tAccuracy:  0.7041979949874686  after removing  8\n",
      "Attention!! Accuracy has not improved by removing this feature!\n",
      "Removed feature:  7  with accuracy:  0.7448621553884712\n",
      "Current feature list:  [1, 2, 3, 5, 6, 8]\n",
      "\n",
      "Level  6  using  6  features: \n",
      "\tAccuracy:  0.7172305764411028  after removing  1\n",
      "\tAccuracy:  0.6603383458646617  after removing  2\n",
      "\tAccuracy:  0.7157894736842105  after removing  3\n",
      "\tAccuracy:  0.7202380952380952  after removing  5\n",
      "\tAccuracy:  0.7352756892230576  after removing  6\n",
      "\tAccuracy:  0.7114661654135339  after removing  8\n",
      "Attention!! Accuracy has not improved by removing this feature!\n",
      "Removed feature:  6  with accuracy:  0.7352756892230576\n",
      "Current feature list:  [1, 2, 3, 5, 8]\n",
      "\n",
      "Level  5  using  5  features: \n",
      "\tAccuracy:  0.7025062656641603  after removing  1\n",
      "\tAccuracy:  0.6432330827067669  after removing  2\n",
      "\tAccuracy:  0.7296365914786967  after removing  3\n",
      "\tAccuracy:  0.7031328320802005  after removing  5\n",
      "\tAccuracy:  0.7088345864661655  after removing  8\n",
      "Attention!! Accuracy has not improved by removing this feature!\n",
      "Removed feature:  3  with accuracy:  0.7296365914786967\n",
      "Current feature list:  [1, 2, 5, 8]\n",
      "\n",
      "Level  4  using  4  features: \n",
      "\tAccuracy:  0.7201127819548873  after removing  1\n",
      "\tAccuracy:  0.6691729323308271  after removing  2\n",
      "\tAccuracy:  0.7538220551378446  after removing  5\n",
      "\tAccuracy:  0.7013157894736841  after removing  8\n",
      "Removed feature:  5  with accuracy:  0.7538220551378446\n",
      "Current feature list:  [1, 2, 8]\n",
      "\n",
      "Level  3  using  3  features: \n",
      "\tAccuracy:  0.7102130325814537  after removing  1\n",
      "\tAccuracy:  0.6352130325814538  after removing  2\n",
      "\tAccuracy:  0.7027568922305764  after removing  8\n",
      "Attention!! Accuracy has not improved by removing this feature!\n",
      "Removed feature:  1  with accuracy:  0.7102130325814537\n",
      "Current feature list:  [2, 8]\n",
      "\n",
      "Level  2  using  2  features: \n",
      "\tAccuracy:  0.6216791979949875  after removing  2\n",
      "\tAccuracy:  0.6748120300751881  after removing  8\n",
      "Attention!! Accuracy has not improved by removing this feature!\n",
      "Removed feature:  8  with accuracy:  0.6748120300751881\n",
      "Current feature list:  [2]\n",
      "\n",
      "Level  1  using  1  features: \n",
      "\tAccuracy:  0.6511278195488722  after removing  2\n",
      "Attention!! Accuracy has not improved by removing this feature!\n",
      "Removed feature:  2  with accuracy:  0.6511278195488722\n",
      "Current feature list:  []\n",
      "\n",
      "Selected features: [1, 2, 8]\n",
      "Best accuracy:  0.7538220551378446\n"
     ]
    },
    {
     "data": {
      "image/png": "[encoded data removed]",
      "text/plain": [
       "<Figure size 432x288 with 1 Axes>"
      ]
     },
     "metadata": {
      "needs_background": "light"
     },
     "output_type": "display_data"
    },
    {
     "name": "stdout",
     "output_type": "stream",
     "text": [
      "Welcome to Feature Selection Algorithm!\n"
     ]
    },
    {
     "name": "stdin",
     "output_type": "stream",
     "text": [
      "Select the dataset you want to test\n",
      "\t 1 for Small Dataset \n",
      "\t 2 for Large Dataset \n",
      "\t 3 for XXX_Large Dataset \n",
      "\t 4 for Diabetes Dataset 1\n",
      "Select feature selection option \n",
      "\t 1 for Forward Feature Selection \n",
      "\t 2 for Backward Feature Selection 1\n"
     ]
    },
    {
     "name": "stdout",
     "output_type": "stream",
     "text": [
      "(1000, 11)\n",
      "Starting Forward Selection Search\n"
     ]
    },
    {
     "name": "stderr",
     "output_type": "stream",
     "text": [
      "  0%|                                                    | 0/10 [00:00<?, ?it/s]"
     ]
    },
    {
     "name": "stdout",
     "output_type": "stream",
     "text": [
      "Level  1  using  1  features: \n",
      "\tAccuracy:  0.7190000000000001  after adding  1\n",
      "\tAccuracy:  0.7229999999999999  after adding  2\n",
      "\tAccuracy:  0.7219999999999999  after adding  3\n",
      "\tAccuracy:  0.836  after adding  4\n",
      "\tAccuracy:  0.7289999999999999  after adding  5\n",
      "\tAccuracy:  0.731  after adding  6\n",
      "\tAccuracy:  0.7079999999999999  after adding  7\n",
      "\tAccuracy:  0.7190000000000001  after adding  8\n",
      "\tAccuracy:  0.724  after adding  9\n"
     ]
    },
    {
     "name": "stderr",
     "output_type": "stream",
     "text": [
      " 10%|████▍                                       | 1/10 [01:33<13:58, 93.21s/it]"
     ]
    },
    {
     "name": "stdout",
     "output_type": "stream",
     "text": [
      "\tAccuracy:  0.7470000000000001  after adding  10\n",
      "Best feature:  4  with accuracy:  0.836\n",
      "Feature list:  [4]\n",
      "\n",
      "Level  2  using  2  features: \n",
      "\tAccuracy:  0.8150000000000001  after adding  1\n",
      "\tAccuracy:  0.8079999999999998  after adding  2\n",
      "\tAccuracy:  0.8110000000000002  after adding  3\n",
      "\tAccuracy:  0.8099999999999999  after adding  5\n",
      "\tAccuracy:  0.834  after adding  6\n",
      "\tAccuracy:  0.8219999999999998  after adding  7\n",
      "\tAccuracy:  0.8109999999999999  after adding  8\n",
      "\tAccuracy:  0.799  after adding  9\n"
     ]
    },
    {
     "name": "stderr",
     "output_type": "stream",
     "text": [
      " 20%|████████▌                                  | 2/10 [03:27<14:03, 105.40s/it]"
     ]
    },
    {
     "name": "stdout",
     "output_type": "stream",
     "text": [
      "\tAccuracy:  0.9649999999999999  after adding  10\n",
      "Best feature:  10  with accuracy:  0.9649999999999999\n",
      "Feature list:  [4, 10]\n",
      "\n",
      "Level  3  using  3  features: \n",
      "\tAccuracy:  0.932  after adding  1\n",
      "\tAccuracy:  0.9339999999999999  after adding  2\n",
      "\tAccuracy:  0.933  after adding  3\n",
      "\tAccuracy:  0.9409999999999998  after adding  5\n",
      "\tAccuracy:  0.954  after adding  6\n",
      "\tAccuracy:  0.951  after adding  7\n",
      "\tAccuracy:  0.9399999999999998  after adding  8\n"
     ]
    },
    {
     "name": "stderr",
     "output_type": "stream",
     "text": [
      " 30%|████████████▉                              | 3/10 [05:43<13:58, 119.74s/it]"
     ]
    },
    {
     "name": "stdout",
     "output_type": "stream",
     "text": [
      "\tAccuracy:  0.9500000000000002  after adding  9\n",
      "Attention!! Accuracy has not improved by adding this feature!\n",
      "Best feature:  6  with accuracy:  0.954\n",
      "Feature list:  [4, 10, 6]\n",
      "\n",
      "Level  4  using  4  features: \n",
      "\tAccuracy:  0.9020000000000001  after adding  1\n",
      "\tAccuracy:  0.9349999999999999  after adding  2\n",
      "\tAccuracy:  0.909  after adding  3\n",
      "\tAccuracy:  0.914  after adding  5\n",
      "\tAccuracy:  0.923  after adding  7\n",
      "\tAccuracy:  0.9229999999999998  after adding  8\n"
     ]
    },
    {
     "name": "stderr",
     "output_type": "stream",
     "text": [
      " 40%|█████████████████▏                         | 4/10 [08:05<12:48, 128.16s/it]"
     ]
    },
    {
     "name": "stdout",
     "output_type": "stream",
     "text": [
      "\tAccuracy:  0.9349999999999999  after adding  9\n",
      "Attention!! Accuracy has not improved by adding this feature!\n",
      "Best feature:  2  with accuracy:  0.9349999999999999\n",
      "Feature list:  [4, 10, 6, 2]\n",
      "\n",
      "Level  5  using  5  features: \n",
      "\tAccuracy:  0.89  after adding  1\n",
      "\tAccuracy:  0.884  after adding  3\n",
      "\tAccuracy:  0.8979999999999999  after adding  5\n",
      "\tAccuracy:  0.892  after adding  7\n",
      "\tAccuracy:  0.8960000000000001  after adding  8\n"
     ]
    },
    {
     "name": "stderr",
     "output_type": "stream",
     "text": [
      " 50%|█████████████████████▌                     | 5/10 [10:26<11:05, 133.14s/it]"
     ]
    },
    {
     "name": "stdout",
     "output_type": "stream",
     "text": [
      "\tAccuracy:  0.883  after adding  9\n",
      "Attention!! Accuracy has not improved by adding this feature!\n",
      "Best feature:  5  with accuracy:  0.8979999999999999\n",
      "Feature list:  [4, 10, 6, 2, 5]\n",
      "\n",
      "Level  6  using  6  features: \n",
      "\tAccuracy:  0.876  after adding  1\n",
      "\tAccuracy:  0.8619999999999999  after adding  3\n",
      "\tAccuracy:  0.8460000000000001  after adding  7\n",
      "\tAccuracy:  0.873  after adding  8\n"
     ]
    },
    {
     "name": "stderr",
     "output_type": "stream",
     "text": [
      " 60%|█████████████████████████▊                 | 6/10 [12:42<08:56, 134.04s/it]"
     ]
    },
    {
     "name": "stdout",
     "output_type": "stream",
     "text": [
      "\tAccuracy:  0.8699999999999999  after adding  9\n",
      "Attention!! Accuracy has not improved by adding this feature!\n",
      "Best feature:  1  with accuracy:  0.876\n",
      "Feature list:  [4, 10, 6, 2, 5, 1]\n",
      "\n",
      "Level  7  using  7  features: \n",
      "\tAccuracy:  0.825  after adding  3\n",
      "\tAccuracy:  0.841  after adding  7\n",
      "\tAccuracy:  0.8489999999999999  after adding  8\n"
     ]
    },
    {
     "name": "stderr",
     "output_type": "stream",
     "text": [
      " 70%|██████████████████████████████             | 7/10 [14:48<06:34, 131.40s/it]"
     ]
    },
    {
     "name": "stdout",
     "output_type": "stream",
     "text": [
      "\tAccuracy:  0.8640000000000001  after adding  9\n",
      "Attention!! Accuracy has not improved by adding this feature!\n",
      "Best feature:  9  with accuracy:  0.8640000000000001\n",
      "Feature list:  [4, 10, 6, 2, 5, 1, 9]\n",
      "\n",
      "Level  8  using  8  features: \n",
      "\tAccuracy:  0.819  after adding  3\n",
      "\tAccuracy:  0.8139999999999998  after adding  7\n"
     ]
    },
    {
     "name": "stderr",
     "output_type": "stream",
     "text": [
      " 80%|██████████████████████████████████▍        | 8/10 [16:29<04:03, 121.51s/it]"
     ]
    },
    {
     "name": "stdout",
     "output_type": "stream",
     "text": [
      "\tAccuracy:  0.829  after adding  8\n",
      "Attention!! Accuracy has not improved by adding this feature!\n",
      "Best feature:  8  with accuracy:  0.829\n",
      "Feature list:  [4, 10, 6, 2, 5, 1, 9, 8]\n",
      "\n",
      "Level  9  using  9  features: \n",
      "\tAccuracy:  0.8230000000000001  after adding  3\n"
     ]
    },
    {
     "name": "stderr",
     "output_type": "stream",
     "text": [
      " 90%|██████████████████████████████████████▋    | 9/10 [17:44<01:47, 107.05s/it]"
     ]
    },
    {
     "name": "stdout",
     "output_type": "stream",
     "text": [
      "\tAccuracy:  0.8109999999999999  after adding  7\n",
      "Attention!! Accuracy has not improved by adding this feature!\n",
      "Best feature:  3  with accuracy:  0.8230000000000001\n",
      "Feature list:  [4, 10, 6, 2, 5, 1, 9, 8, 3]\n",
      "\n",
      "Level  10  using  10  features: \n"
     ]
    },
    {
     "name": "stderr",
     "output_type": "stream",
     "text": [
      "100%|██████████████████████████████████████████| 10/10 [18:26<00:00, 110.70s/it]"
     ]
    },
    {
     "name": "stdout",
     "output_type": "stream",
     "text": [
      "\tAccuracy:  0.788  after adding  7\n",
      "Attention!! Accuracy has not improved by adding this feature!\n",
      "Best feature:  7  with accuracy:  0.788\n",
      "Feature list:  [4, 10, 6, 2, 5, 1, 9, 8, 3, 7]\n",
      "\n",
      "Selected features: [4, 10]\n",
      "Best accuracy:  0.9649999999999999\n"
     ]
    },
    {
     "name": "stderr",
     "output_type": "stream",
     "text": [
      "\n"
     ]
    },
    {
     "data": {
      "image/png": "[encoded data removed]",
      "text/plain": [
       "<Figure size 432x288 with 1 Axes>"
      ]
     },
     "metadata": {
      "needs_background": "light"
     },
     "output_type": "display_data"
    },
    {
     "name": "stdout",
     "output_type": "stream",
     "text": [
      "Welcome to Feature Selection Algorithm!\n"
     ]
    },
    {
     "name": "stdin",
     "output_type": "stream",
     "text": [
      "Select the dataset you want to test\n",
      "\t 1 for Small Dataset \n",
      "\t 2 for Large Dataset \n",
      "\t 3 for XXX_Large Dataset \n",
      "\t 4 for Diabetes Dataset 2\n",
      "Select feature selection option \n",
      "\t 1 for Forward Feature Selection \n",
      "\t 2 for Backward Feature Selection 2\n"
     ]
    },
    {
     "name": "stdout",
     "output_type": "stream",
     "text": [
      "(2000, 21)\n",
      "Initial accuracy with all features:  0.7715000000000002\n",
      "Starting Backward Selection Search\n",
      "Level  20  using  20  features: \n",
      "\tAccuracy:  0.769  after removing  1\n",
      "\tAccuracy:  0.774  after removing  2\n",
      "\tAccuracy:  0.7685000000000001  after removing  3\n",
      "\tAccuracy:  0.7765000000000001  after removing  4\n",
      "\tAccuracy:  0.7699999999999999  after removing  5\n",
      "\tAccuracy:  0.776  after removing  6\n",
      "\tAccuracy:  0.7759999999999999  after removing  7\n",
      "\tAccuracy:  0.7685000000000001  after removing  8\n",
      "\tAccuracy:  0.7715000000000001  after removing  9\n",
      "\tAccuracy:  0.7815000000000001  after removing  10\n",
      "\tAccuracy:  0.7615  after removing  11\n",
      "\tAccuracy:  0.7735  after removing  12\n",
      "\tAccuracy:  0.7715  after removing  13\n",
      "\tAccuracy:  0.772  after removing  14\n",
      "\tAccuracy:  0.7770000000000001  after removing  15\n",
      "\tAccuracy:  0.7775  after removing  16\n",
      "\tAccuracy:  0.7685000000000001  after removing  17\n",
      "\tAccuracy:  0.7765000000000001  after removing  18\n",
      "\tAccuracy:  0.7660000000000001  after removing  19\n",
      "\tAccuracy:  0.758  after removing  20\n",
      "Removed feature:  10  with accuracy:  0.7815000000000001\n",
      "Current feature list:  [1, 2, 3, 4, 5, 6, 7, 8, 9, 11, 12, 13, 14, 15, 16, 17, 18, 19, 20]\n",
      "\n",
      "Level  19  using  19  features: \n",
      "\tAccuracy:  0.7655000000000001  after removing  1\n",
      "\tAccuracy:  0.7665  after removing  2\n",
      "\tAccuracy:  0.772  after removing  3\n",
      "\tAccuracy:  0.768  after removing  4\n",
      "\tAccuracy:  0.771  after removing  5\n",
      "\tAccuracy:  0.769  after removing  6\n",
      "\tAccuracy:  0.7725  after removing  7\n",
      "\tAccuracy:  0.7715  after removing  8\n",
      "\tAccuracy:  0.7649999999999999  after removing  9\n",
      "\tAccuracy:  0.7675  after removing  11\n",
      "\tAccuracy:  0.771  after removing  12\n",
      "\tAccuracy:  0.783  after removing  13\n",
      "\tAccuracy:  0.773  after removing  14\n",
      "\tAccuracy:  0.7735  after removing  15\n",
      "\tAccuracy:  0.7765000000000001  after removing  16\n",
      "\tAccuracy:  0.769  after removing  17\n",
      "\tAccuracy:  0.7819999999999999  after removing  18\n",
      "\tAccuracy:  0.77  after removing  19\n",
      "\tAccuracy:  0.771  after removing  20\n",
      "Removed feature:  13  with accuracy:  0.783\n",
      "Current feature list:  [1, 2, 3, 4, 5, 6, 7, 8, 9, 11, 12, 14, 15, 16, 17, 18, 19, 20]\n",
      "\n",
      "Level  18  using  18  features: \n"
     ]
    }
   ],
   "source": [
    "if __name__ == \"__main__\":\n",
    "    small_data_accuracy_cache = {}\n",
    "    large_data_accuracy_cache = {}\n",
    "    xlarge_data_accuracy_cache = {} #get_accuracy_dict()\n",
    "    diabetes_data_accuracy_cache = {}\n",
    "    while(True):\n",
    "        print(\"Welcome to Feature Selection Algorithm!\")\n",
    "        data_selection = input(\"Select the dataset you want to test\\n\" + \\\n",
    "                                \"\\t 1 for Small Dataset \\n\" + \\\n",
    "                                \"\\t 2 for Large Dataset \\n\" + \\\n",
    "                                \"\\t 3 for XXX_Large Dataset \\n\" + \\\n",
    "                                \"\\t 4 for Diabetes Dataset\")\n",
    "        \n",
    "        feature_selection = input(\"Select feature selection option \\n\" + \\\n",
    "                                 \"\\t 1 for Forward Feature Selection \\n\" + \\\n",
    "                                 \"\\t 2 for Backward Feature Selection\")\n",
    "        \n",
    "        if data_selection == '1':\n",
    "            file_name=\"data_sets/CS170_small_Data__18.txt\"\n",
    "            #data = load_dataset(file_name)\n",
    "            num_features1, accuracies1, all_best_features1, large_data_accuracy_cache = apply_feature_selection(\n",
    "                feature_selection, file_name, large_data_accuracy_cache)\n",
    "        \n",
    "        elif data_selection == '2':\n",
    "            file_name=\"data_sets/CS170_large_Data__31.txt\"\n",
    "            num_features1, accuracies1, all_best_features1, large_data_accuracy_cache = apply_feature_selection(\n",
    "                feature_selection, file_name, large_data_accuracy_cache)\n",
    "        \n",
    "        elif data_selection == '3':\n",
    "            print(len(xlarge_data_accuracy_cache))\n",
    "            file_name=\"data_sets/CS170_XXXlarge_Data__12.txt\"\n",
    "            num_features1, accuracies1, all_best_features1, xlarge_data_accuracy_cache = apply_feature_selection(\n",
    "                feature_selection, file_name, xlarge_data_accuracy_cache)\n",
    "        \n",
    "        elif data_selection == '4':\n",
    "            file_name = 'diabetes.csv'\n",
    "            num_features1, accuracies1, all_best_features1, diabetes_data_accuracy_cache = apply_feature_selection(\n",
    "                feature_selection, file_name, diabetes_data_accuracy_cache)"
   ]
  },
  {
   "cell_type": "code",
   "execution_count": null,
   "id": "7fb22967",
   "metadata": {},
   "outputs": [],
   "source": []
  },
  {
   "cell_type": "code",
   "execution_count": null,
   "id": "7db6defe",
   "metadata": {},
   "outputs": [],
   "source": []
  }
 ],
 "metadata": {
  "kernelspec": {
   "display_name": "Python 3 (ipykernel)",
   "language": "python",
   "name": "python3"
  },
  "language_info": {
   "codemirror_mode": {
    "name": "ipython",
    "version": 3
   },
   "file_extension": ".py",
   "mimetype": "text/x-python",
   "name": "python",
   "nbconvert_exporter": "python",
   "pygments_lexer": "ipython3",
   "version": "3.9.7"
  }
 },
 "nbformat": 4,
 "nbformat_minor": 5
}
